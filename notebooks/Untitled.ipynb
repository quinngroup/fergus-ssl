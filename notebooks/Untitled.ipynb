{
 "cells": [
  {
   "cell_type": "code",
   "execution_count": 549,
   "metadata": {
    "collapsed": true
   },
   "outputs": [],
   "source": [
    "import numpy as np\n",
    "from sklearn import datasets\n",
    "import matplotlib.pyplot as plt\n",
    "import matplotlib.pyplot as plt1\n",
    "import timeit\n",
    "import sys\n",
    "import os\n",
    "from sklearn.cross_validation import KFold\n",
    "from collections import OrderedDict\n",
    "import operator\n",
    "import random\n",
    "from sklearn.cluster import KMeans\n",
    "import numpy as np\n",
    "import scipy.linalg as LA\n",
    "import scipy.sparse\n",
    "import sklearn.utils.arpack as SLA\n",
    "from sklearn.base import ClassifierMixin\n",
    "from sklearn.base import BaseEstimator\n",
    "from sklearn.manifold import spectral_embedding\n",
    "import sklearn.metrics.pairwise as pairwise\n",
    "from sklearn import decomposition as pca\n",
    "from scipy import interpolate as ip\n",
    "import sklearn.mixture as mixture\n",
    "import sys\n",
    "from sklearn.metrics.pairwise import chi2_kernel\n",
    "from sklearn.neighbors import DistanceMetric\n",
    "%matplotlib inline"
   ]
  },
  {
   "cell_type": "code",
   "execution_count": 596,
   "metadata": {
    "collapsed": true
   },
   "outputs": [],
   "source": [
    "dataX,dataY=datasets.make_blobs(n_samples=20000, n_features=50, centers=2, cluster_std=1.5, center_box=(-10.0, 10.0), shuffle=True, random_state=None)"
   ]
  },
  {
   "cell_type": "code",
   "execution_count": 568,
   "metadata": {
    "collapsed": true
   },
   "outputs": [],
   "source": [
    "dataX,dataY=datasets.make_moons(n_samples=20000,random_state=None)"
   ]
  },
  {
   "cell_type": "code",
   "execution_count": 597,
   "metadata": {
    "collapsed": true
   },
   "outputs": [],
   "source": [
    "def labelremover(X,y):\n",
    "    newX1 = np.around(X,decimals=2)\n",
    "    newY1=np.copy(y)\n",
    "    dim = X.shape[1]\n",
    "    points = np.array(np.empty(len(np.unique(y))))\n",
    "    knownX = np.empty((len(points),dim))\n",
    "    knownY = np.empty(len(points))\n",
    "    for i in np.unique(y):\n",
    "        points[i] = np.where(y==(i))[0][0]\n",
    "    for j in np.arange(0,len(newY1)):\n",
    "        newY1[j]=-1\n",
    "    for k in np.unique(y):\n",
    "        newY1[points[k]] = y[points[k]]\n",
    "    knownX = X[[i for i in points]]\n",
    "    knownY = y[[i for i in points]]\n",
    "    print \"These are labels of known points: \"+ str(knownY)\n",
    "    return (newY1, knownX, knownY)\n"
   ]
  },
  {
   "cell_type": "code",
   "execution_count": 598,
   "metadata": {
    "collapsed": false
   },
   "outputs": [
    {
     "name": "stdout",
     "output_type": "stream",
     "text": [
      "These are labels of known points: [0 1]\n"
     ]
    },
    {
     "name": "stderr",
     "output_type": "stream",
     "text": [
      "/home/madhura/.local/lib/python2.7/site-packages/ipykernel/__main__.py:13: DeprecationWarning: using a non-integer number instead of an integer will result in an error in the future\n"
     ]
    }
   ],
   "source": [
    "trainX = dataX[0:18000,:]\n",
    "trainY = dataY[0:18000]\n",
    "testX = dataX[18000:20000,:]\n",
    "testY = dataY[18000:20000]\n",
    "\n",
    "\n",
    "newtrainY, knownX, knownY = labelremover(trainX,trainY)\n",
    "\n"
   ]
  },
  {
   "cell_type": "code",
   "execution_count": 618,
   "metadata": {
    "collapsed": false
   },
   "outputs": [
    {
     "data": {
      "image/png": "[encoded data removed]",
      "text/plain": [
       "<matplotlib.figure.Figure at 0x7fbbaf2dbbd0>"
      ]
     },
     "metadata": {},
     "output_type": "display_data"
    }
   ],
   "source": [
    "X = trainX\n",
    "y = newtrainY\n",
    "\n",
    "classes = np.sort(np.unique(y))\n",
    "PCA = pca.PCA(n_components=X.shape[1])\n",
    "rotatedData = PCA.fit_transform(X)\n",
    "\n",
    "plt.scatter(rotatedData[:,0], rotatedData[:,1], c=trainY, cmap = (('ocean')))\n",
    "\n",
    "X_ = rotatedData\n",
    "\n",
    "dim = X_.shape[1]\n",
    "classes = np.delete(classes, 0) # remove the -1 from this list\n",
    "k = np.size(classes)\n",
    "\n",
    "numBins =k+1\n",
    "\n",
    "def _get_kernel(X, y = None,ker=None):\n",
    "    \n",
    "    if ker == \"rbf\":\n",
    "        if y is None:\n",
    "            return pairwise.rbf_kernel(X, X, gamma = 625)\n",
    "        else:\n",
    "            return pairwise.rbf_kernel(X, y, gamma = 625)\n",
    "    elif ker == \"linear\":\n",
    "        \n",
    "        dist = DistanceMetric.get_metric('euclidean')\n",
    "        if y is None:\n",
    "            return pairwise.euclidean_distances(X, X)\n",
    "            #return dist.pairwise(X)\n",
    "        else:\n",
    "            return pairwise.euclidean_distances(X, y)\n",
    "            #return dist.pairwise(X)\n",
    "    else:\n",
    "        raise ValueError(\"is not a valid kernel. Only rbf and euclidean\"\n",
    "                         \" are supported at this time\")\n",
    "\n",
    "\n",
    "sig = np.zeros(dim)\n",
    "gee = np.zeros((numBins,dim))\n",
    "b_edgeMeans = np.zeros((numBins,dim))\n",
    "interpolators = []\n",
    "index = []\n",
    "\n",
    "\n",
    "for i in range(dim):\n",
    "    histograms,binEdges = np.histogram(X_[:,i],bins=numBins,density=True)\n",
    "    #add 0.01 to histograms and normalize it\n",
    "    histograms = histograms+ 0.01\n",
    "    #print histograms\n",
    "    histograms /= histograms.sum()\n",
    "    # calculating means on the bin edges as the x-axis for the interpolators\n",
    "    b_edgeMeans[:,i] = np.array([binEdges[j:j + 2].mean() for j in range(binEdges.shape[0] - 1)])\n",
    "    #print b_edgeMeans\n",
    "    #get D~, P, W~\n",
    "    '''\n",
    "    Wdis = Affinity between discrete points.\n",
    "    Since Affinity matrix will be build on one histogram at a time. I am using pairwise linear- kernel affinities\n",
    "    P  = Diagonal matrix of histograms\n",
    "    Ddis = Diagonal matrix whose diagonal elements are the sum of the columns of PW~P\n",
    "    Dhat = Diagonal matrix whose diagonal elements are the sum of columns of PW~\n",
    "    '''\n",
    "    Wdis = _get_kernel(histograms.reshape(histograms.shape[0],1),y=None,ker=\"linear\")\n",
    "    #print Wdis\n",
    "    P  = np.diag(histograms)\n",
    "    #print P\n",
    "    Ddis = np.diag(np.sum((P.dot(Wdis.dot(P))),axis=0))\n",
    "    #print Ddis\n",
    "    Dhat = np.diag(np.sum(P.dot(Wdis),axis=0))\n",
    "    #print Dhat\n",
    "    #Creating generalized eigenfunctions and eigenvalues from histograms.\n",
    "    sigmaVals, functions = scipy.linalg.eig((Ddis-(P.dot(Wdis.dot(P)))),(P.dot(Dhat)))\n",
    "    #print functions.shape\n",
    "    #print(\"eigenValue\"+repr(i)+\": \"+repr(np.real(sigmaVals[0:self.k]))+\"Eigenfunctions\"+repr(i)+\": \"+repr(np.real(functions[:,0:self.k])))\n",
    "    #print np.sort(np.real(sigmaVals))\n",
    "    arg = np.argsort(np.real(sigmaVals))[1]\n",
    "    index.append(arg)\n",
    "    sig[i] = np.real(sigmaVals)[arg]\n",
    "    gee[:,i] = np.real(functions)[:,arg]\n",
    "    #b_edge_for_test[:,i] = b_edgeMeans[:,arg]\n",
    "    #print \"====\"\n",
    "for i in index:\n",
    "    plt.hist(X_[:,i], bins = numBins)\n",
    "    plt.axis([binEdges.min()-5, binEdges.max()+5, 0, X_.shape[0]])\n",
    "plt.show()\n",
    "\n",
    "\n",
    "if np.isnan(np.min(sig)):\n",
    "    nan_num = np.isnan(sig)\n",
    "    sig[nan_num] = 0\n",
    "newsig = np.zeros(k)\n",
    "newg = np.zeros((numBins,k))\n",
    "newEdgeMeans = np.zeros((numBins,k))\n",
    "transformeddata = np.zeros((X_.shape[0],k))\n",
    "approxValues = np.zeros((X_.shape[0],k))\n",
    "\n",
    "def get_transformed_data(ori_data,edge_means,i):\n",
    "    dim = edge_means.shape[1]\n",
    "    transformeddata = np.empty((ori_data.shape[0],dim))\n",
    "    if ori_data[:,i].min() < edge_means[:,i].min() or ori_data[:,i].max() > edge_means[:,i].max():\n",
    "        ls=[]\n",
    "        for num in ori_data[:,i]:\n",
    "            val = (((edge_means[:,i].max()-edge_means[:,i].min())*(num - ori_data[:,i].min()))/(ori_data[:,i].max() - ori_data[:,i].min())) + edge_means[:,i].min()\n",
    "            if num==ori_data[:,i].min():\n",
    "                val = val + 0.001\n",
    "            if num==ori_data[:,i].max():\n",
    "                val = val - 0.001\n",
    "            ls.append(val)\n",
    "        return np.array(ls)\n",
    "        #transformeddata[i,:] = transformer(b_edgeMeans[i].min(), b_edgeMeans[i].max(), self.X_[:,i])\n",
    "    else:\n",
    "        print(\"within range\")\n",
    "        return ori_data[:,i]\n",
    "#selecting the first k eigenvalues and corresponding eigenvectors from all dimensions\n",
    "\n",
    "ind =  np.argsort(sig)[0:k]\n",
    "print ind\n",
    "newsig = sig[ind]\n",
    "newg = gee[:,ind]\n",
    "newEdgeMeans = b_edgeMeans[:,ind]\n",
    "allinterpolators = []\n",
    "b_edge_for_test = np.zeros((numBins,dim))\n",
    "#==================\n",
    "#b_edge_for_test = b_edgeMeans[:,np.argsort(sig)]\n",
    "#g_for_test = gee[:,np.argsort(sig)]\n",
    "#for i in range(0,b_edge_for_test.shape[1]):\n",
    "#    allinterpolators.append(ip.interp1d(b_edge_for_test[:,i], g_for_test[:,i]))\n",
    "#==================\n",
    "\n",
    "for i in range(0,k):\n",
    "    interpolators.append(ip.interp1d(newEdgeMeans[:,i], newg[:,i]))\n",
    "    transformeddata[:,i] = get_transformed_data(X_,newEdgeMeans,i)\n",
    "    approxValues[:,i] = interpolators[i](transformeddata[:,i])\n",
    "print numBins\n",
    "print newsig\n",
    "#plt.scatter(range(numBins), newsig)\n",
    "#plt.show()\n",
    "    \n",
    "U = approxValues\n",
    "S = np.diag(newsig)\n",
    "V = np.diag(np.zeros(np.size(y)))\n",
    "\n",
    "labeled = np.where(y != -1)\n",
    "V[labeled, labeled] = 10\n",
    "print U.shape\n",
    "print S.shape\n",
    "print V.shape\n",
    "# Solve for alpha and use it to compute the eigenfunctions, f.\n",
    "A = S + np.dot(np.dot(U.T, V), U)\n",
    "if np.linalg.det(A) == 0:\n",
    "    A = A + np.eye(A.shape[1])*0.000001\n",
    "b = np.dot(np.dot(U.T, V), y)\n",
    "#print \"this is A: \"+ str(A)\n",
    "#print \"this is b: \"+ str(b)\n",
    "alpha = np.linalg.solve(A, b)\n",
    "print \"this is alpha \" + str(alpha)\n",
    "#labels_ = solver(U, alpha)\n",
    "f = np.dot(U,alpha)\n",
    "f = f.reshape((f.shape[0],-1))\n",
    "# Set up a GMM to assign the hard labels from the eigenfunctions.\n",
    "g = mixture.GMM(n_components = np.size(classes),n_iter=5000, covariance_type='full',min_covar=0.0000001)\n",
    "g.fit(f)\n",
    "labels_ = g.predict(f)\n",
    "means = np.argsort(g.means_.flatten())\n",
    "for i in range(0, np.size(labels_)):\n",
    "    labels_[i] = np.where(means == labels_[i])[0][0]\n",
    "\n",
    "#===========================================================================\n",
    "\n",
    "\n",
    "\n",
    "plt.figure(0)\n",
    "plt.title(\"$x_1$ dimension\")\n",
    "plt.plot(newEdgeMeans[:,0], newg[:, 0], 'o', label = 'Original')\n",
    "plt.plot(transformeddata[:,0], approxValues[:,0], '-', label = 'Interpolator')\n",
    "plt.legend(loc = 0)\n",
    "\n",
    "plt.scatter(trainX[:,0], trainX[:,1], c=trainY, cmap= (('ocean')))\n",
    "\n",
    "plt.scatter(trainX[:,0], trainX[:,1], c=labels_, cmap = (('ocean')))\n",
    "\n",
    "tx = PCA.transform(testX)\n",
    "\n",
    "approxVec1 = np.zeros((tx.shape[0],k))\n",
    "allpoints = np.zeros((tx.shape[0],k))\n",
    "for i in range(k):\n",
    "    allpoints[:,i] = get_transformed_data(tx[:,0:k], newEdgeMeans,i)\n",
    "#print allpoints\n",
    "for p in range(tx.shape[0]):\n",
    "    kpoints = allpoints[p]\n",
    "    #print kpoints\n",
    "    for d in range(len(kpoints)):\n",
    "        val = kpoints[d]\n",
    "        approxVec1[p,d] = interpolators[d](val)\n",
    "\n",
    "\n",
    "tf = np.dot(approxVec1,alpha)\n",
    "tf = tf.reshape((tf.shape[0],-1))\n",
    "tlabels_ = g.predict(tf)\n",
    "for i in range(0, np.size(tlabels_)):\n",
    "    tlabels_[i] = np.where(means == tlabels_[i])[0][0]\n",
    "\n",
    "#===========================================================================\n",
    "\n",
    "plt.scatter(range(len(tf)), tf)\n",
    "\n",
    "\n",
    "plt.scatter(range(len(f)), f)\n",
    "\n",
    "plt.scatter(testX[:,0], testX[:,1], c=testY, cmap= (('ocean')))\n",
    "\n",
    "plt.scatter(testX[:,0], testX[:,1], c=tlabels_, cmap= (('ocean')))"
   ]
  },
  {
   "cell_type": "code",
   "execution_count": 16,
   "metadata": {
    "collapsed": true
   },
   "outputs": [],
   "source": [
    "opendict={}\n",
    "closedict={}\n",
    "input=\"[]][\"\n",
    "for i in input:\n",
    "    if i in ['{','[','(']:\n",
    "        if i not in opendict:\n",
    "            opendict[i] = 1\n",
    "        else:\n",
    "            opendict[i] = opendict.get(i) + 1\n",
    "    if i in ['}',']',')']:\n",
    "        if i not in closedict:\n",
    "            closedict[i] = 1\n",
    "        else:\n",
    "            closedict[i] = closedict.get(i) + 1\n",
    "\n",
    "dict3 = dict({'{':'}', '[':']','(':')'})"
   ]
  },
  {
   "cell_type": "code",
   "execution_count": 17,
   "metadata": {
    "collapsed": false
   },
   "outputs": [
    {
     "data": {
      "text/plain": [
       "{'[': 2}"
      ]
     },
     "execution_count": 17,
     "metadata": {},
     "output_type": "execute_result"
    }
   ],
   "source": [
    "opendict"
   ]
  },
  {
   "cell_type": "code",
   "execution_count": 18,
   "metadata": {
    "collapsed": false
   },
   "outputs": [
    {
     "data": {
      "text/plain": [
       "{']': 2}"
      ]
     },
     "execution_count": 18,
     "metadata": {},
     "output_type": "execute_result"
    }
   ],
   "source": [
    "closedict"
   ]
  },
  {
   "cell_type": "code",
   "execution_count": 19,
   "metadata": {
    "collapsed": false
   },
   "outputs": [
    {
     "data": {
      "text/plain": [
       "{'(': ')', '[': ']', '{': '}'}"
      ]
     },
     "execution_count": 19,
     "metadata": {},
     "output_type": "execute_result"
    }
   ],
   "source": [
    "dict3"
   ]
  },
  {
   "cell_type": "code",
   "execution_count": 20,
   "metadata": {
    "collapsed": false
   },
   "outputs": [
    {
     "name": "stdout",
     "output_type": "stream",
     "text": [
      "yes\n"
     ]
    }
   ],
   "source": [
    "flag=0\n",
    "for k in opendict:\n",
    "    if k in dict3 and dict3[k] in closedict:\n",
    "        v = dict3[k]\n",
    "        if opendict[k]!=closedict[v]:\n",
    "            print(\"no\")\n",
    "            flag=0\n",
    "            break\n",
    "        else:\n",
    "            flag=1\n",
    "            \n",
    "    else:\n",
    "        print(\"no\")\n",
    "        flag=0\n",
    "        break\n",
    "if flag == 1:\n",
    "    print \"yes\"\n"
   ]
  },
  {
   "cell_type": "code",
   "execution_count": null,
   "metadata": {
    "collapsed": true
   },
   "outputs": [],
   "source": []
  }
 ],
 "metadata": {
  "kernelspec": {
   "display_name": "Python 2",
   "language": "python",
   "name": "python2"
  },
  "language_info": {
   "codemirror_mode": {
    "name": "ipython",
    "version": 2
   },
   "file_extension": ".py",
   "mimetype": "text/x-python",
   "name": "python",
   "nbconvert_exporter": "python",
   "pygments_lexer": "ipython2",
   "version": "2.7.10"
  }
 },
 "nbformat": 4,
 "nbformat_minor": 1
}
